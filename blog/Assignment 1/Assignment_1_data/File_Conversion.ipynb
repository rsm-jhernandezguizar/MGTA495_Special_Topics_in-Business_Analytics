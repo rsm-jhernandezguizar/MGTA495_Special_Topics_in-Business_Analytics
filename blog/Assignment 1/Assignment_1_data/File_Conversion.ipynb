{
 "cells": [
  {
   "cell_type": "code",
   "execution_count": 2,
   "id": "7ffd0d4e",
   "metadata": {},
   "outputs": [],
   "source": [
    "import pandas as pd\n",
    "\n",
    "karlan_list_2007_csv = pd.read_stata(\"karlan_list_2007.dta\")\n",
    "\n",
    "karlan_list_2007_csv.to_csv(\"karlan_list_2007_csv.csv\", index=False)"
   ]
  }
 ],
 "metadata": {
  "kernelspec": {
   "display_name": "base",
   "language": "python",
   "name": "python3"
  },
  "language_info": {
   "codemirror_mode": {
    "name": "ipython",
    "version": 3
   },
   "file_extension": ".py",
   "mimetype": "text/x-python",
   "name": "python",
   "nbconvert_exporter": "python",
   "pygments_lexer": "ipython3",
   "version": "3.12.7"
  }
 },
 "nbformat": 4,
 "nbformat_minor": 5
}
